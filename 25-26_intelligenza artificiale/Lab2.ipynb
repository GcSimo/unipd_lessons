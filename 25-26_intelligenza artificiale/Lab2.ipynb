{
  "nbformat": 4,
  "nbformat_minor": 0,
  "metadata": {
    "colab": {
      "provenance": [],
      "include_colab_link": true
    },
    "kernelspec": {
      "name": "python3",
      "display_name": "Python 3"
    },
    "language_info": {
      "name": "python"
    }
  },
  "cells": [
    {
      "cell_type": "markdown",
      "metadata": {
        "id": "view-in-github",
        "colab_type": "text"
      },
      "source": [
        "<a href=\"https://colab.research.google.com/github/GcSimo/unipd_lessons/blob/main/25-26_intelligenza%20artificiale/Lab2.ipynb\" target=\"_parent\"><img src=\"https://colab.research.google.com/assets/colab-badge.svg\" alt=\"Open In Colab\"/></a>"
      ]
    },
    {
      "cell_type": "markdown",
      "source": [
        "**Laboratory Lecture 2**"
      ],
      "metadata": {
        "id": "yRRHdRaCohhR"
      }
    },
    {
      "cell_type": "markdown",
      "source": [
        "Class Student"
      ],
      "metadata": {
        "id": "w5zXb18hoUds"
      }
    },
    {
      "cell_type": "code",
      "execution_count": null,
      "metadata": {
        "id": "2MZtobVOoInp"
      },
      "outputs": [],
      "source": [
        "class Student:\n",
        "\n",
        " def __init__(self, name, surname, id, degree):\n",
        "   self.name = name\n",
        "   self.surname = surname\n",
        "   self.id = id\n",
        "   self.degree = degree\n"
      ]
    },
    {
      "cell_type": "code",
      "source": [
        "student = Student('Mario', 'Rossi', 10000, 'Computer Science Engineering')\n",
        "student1 = Student('Francesca', 'Bianchi', 10001, 'Information Engineering')"
      ],
      "metadata": {
        "id": "_4YosDJDqwIf"
      },
      "execution_count": null,
      "outputs": []
    },
    {
      "cell_type": "code",
      "source": [
        "print(student)\n",
        "print(student1)"
      ],
      "metadata": {
        "colab": {
          "base_uri": "https://localhost:8080/"
        },
        "id": "KFZKpZMxrqjC",
        "outputId": "2539f810-799c-401a-b2fc-8d3f0600308c"
      },
      "execution_count": null,
      "outputs": [
        {
          "output_type": "stream",
          "name": "stdout",
          "text": [
            "<__main__.Student object at 0x7fbe1269c6e0>\n",
            "<__main__.Student object at 0x7fbe1269c830>\n"
          ]
        }
      ]
    },
    {
      "cell_type": "code",
      "source": [
        "print(student.name)\n",
        "print(student.surname)\n",
        "print(student.id)\n",
        "print(student.degree)\n",
        "print(\"-----------\")\n",
        "print(student1.name)\n",
        "print(student1.surname)\n",
        "print(student1.id)\n",
        "print(student1.degree)"
      ],
      "metadata": {
        "colab": {
          "base_uri": "https://localhost:8080/"
        },
        "id": "Vf7IVn3Gr06s",
        "outputId": "75c53c50-9314-4a53-ea8d-2cd5cb03922e"
      },
      "execution_count": null,
      "outputs": [
        {
          "output_type": "stream",
          "name": "stdout",
          "text": [
            "Mario\n",
            "Rossi\n",
            "10000\n",
            "Computer Science Engineering\n",
            "-----------\n",
            "Francesca\n",
            "Bianchi\n",
            "10001\n",
            "Information Engineering\n"
          ]
        }
      ]
    },
    {
      "cell_type": "code",
      "source": [
        "student1.degree = 'Electronic Engineering'\n",
        "print(student1.name + \" \" + student1.surname + \" \" + str(student1.id) + \" \" + student1.degree)"
      ],
      "metadata": {
        "colab": {
          "base_uri": "https://localhost:8080/"
        },
        "id": "FJuAP9100keU",
        "outputId": "97364808-2072-4145-b62a-6ecbdaaa9858"
      },
      "execution_count": null,
      "outputs": [
        {
          "output_type": "stream",
          "name": "stdout",
          "text": [
            "Francesca Bianchi 10001 Electronic Engineering\n"
          ]
        }
      ]
    },
    {
      "cell_type": "code",
      "source": [
        "class Student:\n",
        "\n",
        " def __init__(self, name, surname, id, degree):\n",
        "   self.name = name\n",
        "   self.surname = surname\n",
        "   self.id = id\n",
        "   self.degree = degree\n",
        "\n",
        "def print_info(self):\n",
        "  print(self.name + \" \" + self.surname + \" \" + str(self.id) + \" \" + self.degree)"
      ],
      "metadata": {
        "id": "PrmQ0Z0k1smn"
      },
      "execution_count": null,
      "outputs": []
    },
    {
      "cell_type": "code",
      "source": [
        "print_info(student1)"
      ],
      "metadata": {
        "colab": {
          "base_uri": "https://localhost:8080/"
        },
        "id": "AdQ77CSB23Qh",
        "outputId": "e9200517-0232-4f47-c801-e0a1fd48b476"
      },
      "execution_count": null,
      "outputs": [
        {
          "output_type": "stream",
          "name": "stdout",
          "text": [
            "Francesca Bianchi 10001 Electronic Engineering\n"
          ]
        }
      ]
    },
    {
      "cell_type": "markdown",
      "source": [
        "Class Dog"
      ],
      "metadata": {
        "id": "s_OomwaiBQ-E"
      }
    },
    {
      "cell_type": "code",
      "source": [
        "class Dog:\n",
        "    def __init__(self, name, month, day, year, speakText):\n",
        "        self.name = name\n",
        "        self.month = month\n",
        "        self.day = day\n",
        "        self.year = year\n",
        "        self.speakText = speakText\n",
        "\n",
        "    def speak(self):\n",
        "        return self.speakText\n",
        "\n",
        "    def getName(self):\n",
        "        return self.name\n",
        "\n",
        "    def birthDate(self):\n",
        "        return str(self.month) + \"/\" + str(self.day) + \"/\" + str(self.year)\n",
        "\n",
        "    def changeBark(self,bark):\n",
        "        self.speakText = bark\n",
        "\n",
        "\n",
        "    def __add__(self, otherDog):\n",
        "        return Dog(\"Puppy of \" + self.name + \" and \" + otherDog.name, \\\n",
        "                   self.month, self.day, self.year + 1, \\\n",
        "                   self.speakText + otherDog.speakText)"
      ],
      "metadata": {
        "id": "KdBLt9LSB7eW"
      },
      "execution_count": null,
      "outputs": []
    },
    {
      "cell_type": "code",
      "source": [
        "  boyDog = Dog(\"Mesa\", 5, 15, 2004, \"WOOOOF\")\n",
        "  girlDog = Dog(\"Sequoia\", 5, 6, 2004, \"barkbark\")\n",
        "  print(boyDog.speak())\n",
        "  print(girlDog.speak())\n",
        "  print(boyDog.birthDate())\n",
        "  print(girlDog.birthDate())\n",
        "  boyDog.changeBark(\"arf arf\")\n",
        "  print(boyDog.speak())\n",
        "  puppy = boyDog + girlDog\n",
        "  print(puppy.speak())\n",
        "  print(puppy.getName())\n",
        "  print(puppy.birthDate())"
      ],
      "metadata": {
        "colab": {
          "base_uri": "https://localhost:8080/"
        },
        "id": "PpUJZPlaCYOr",
        "outputId": "c1b20570-ca43-4e89-dc41-5ffa299d3d43"
      },
      "execution_count": null,
      "outputs": [
        {
          "output_type": "stream",
          "name": "stdout",
          "text": [
            "WOOOOF\n",
            "barkbark\n",
            "5/15/2004\n",
            "5/6/2004\n",
            "arf arf\n",
            "arf arfbarkbark\n",
            "Puppy of Mesa and Sequoia\n",
            "5/15/2005\n"
          ]
        }
      ]
    },
    {
      "cell_type": "markdown",
      "source": [
        "Variable assignments"
      ],
      "metadata": {
        "id": "v_g1Sa94oSlO"
      }
    },
    {
      "cell_type": "code",
      "source": [
        " a = 3\n",
        " b = a\n",
        " b -=1\n",
        " print(a)\n",
        " print(b)"
      ],
      "metadata": {
        "colab": {
          "base_uri": "https://localhost:8080/"
        },
        "id": "4s72if5fqQ1J",
        "outputId": "c9848854-9448-469f-fcb4-a6ae41dc5cc5"
      },
      "execution_count": null,
      "outputs": [
        {
          "output_type": "stream",
          "name": "stdout",
          "text": [
            "3\n",
            "2\n"
          ]
        }
      ]
    },
    {
      "cell_type": "code",
      "source": [
        "l1 = [1,2,3,4]\n",
        "l2 = l1\n",
        "l2.append(5)\n",
        "print(l1)\n",
        "print(l2)"
      ],
      "metadata": {
        "colab": {
          "base_uri": "https://localhost:8080/"
        },
        "id": "3HQFV1KOoaq8",
        "outputId": "ea0c13ab-46d9-4c46-9bd6-a5ee45812bd4"
      },
      "execution_count": null,
      "outputs": [
        {
          "output_type": "stream",
          "name": "stdout",
          "text": [
            "[1, 2, 3, 4, 5]\n",
            "[1, 2, 3, 4, 5]\n"
          ]
        }
      ]
    },
    {
      "cell_type": "markdown",
      "source": [
        "Class Jacket"
      ],
      "metadata": {
        "id": "mLB0U1fIOQ01"
      }
    },
    {
      "cell_type": "code",
      "source": [
        "class Jacket():\n",
        "  def __init__(self):\n",
        "    self.colour = \"no_colour\"\n",
        "    self.buttons = 1\n",
        "    self.style = \"unisex\""
      ],
      "metadata": {
        "id": "MyiOVZEROXCf"
      },
      "execution_count": null,
      "outputs": []
    },
    {
      "cell_type": "code",
      "source": [
        "g1 = Jacket()\n",
        "g1.colour = \"grey\"\n",
        "g1.buttons = 1\n",
        "g1.style = \"woman\"\n",
        "\n",
        "g2 = Jacket()\n",
        "g2.colour = \"red\"\n",
        "g2.buttons = 1\n",
        "g2.style = \"woman\"\n",
        "\n",
        "gr = g2\n",
        "gr.colour = \"RED\"\n",
        "print(g2.colour)"
      ],
      "metadata": {
        "colab": {
          "base_uri": "https://localhost:8080/"
        },
        "id": "NobH2QUMO4Rq",
        "outputId": "c11ef363-92d1-41a5-befc-9a9caa0d9c2c"
      },
      "execution_count": null,
      "outputs": [
        {
          "output_type": "stream",
          "name": "stdout",
          "text": [
            "RED\n"
          ]
        }
      ]
    },
    {
      "cell_type": "markdown",
      "source": [
        "Parameters passing"
      ],
      "metadata": {
        "id": "_Wr3uWSvxJFD"
      }
    },
    {
      "cell_type": "code",
      "source": [
        "def my_func1(b):\n",
        "  b = 2\n",
        "\n",
        "a = 1\n",
        "my_func1(a)\n",
        "print(a)"
      ],
      "metadata": {
        "colab": {
          "base_uri": "https://localhost:8080/"
        },
        "id": "bPMsf1I9xQdl",
        "outputId": "69f1f6f4-4c47-480a-d0fd-5edde7b12860"
      },
      "execution_count": null,
      "outputs": [
        {
          "output_type": "stream",
          "name": "stdout",
          "text": [
            "1\n"
          ]
        }
      ]
    },
    {
      "cell_type": "code",
      "source": [
        "def my_func2(l2):\n",
        "  l2.append(4)\n",
        "\n",
        "l1 = [1, 2, 3]\n",
        "my_func2(l1)\n",
        "print(l1)"
      ],
      "metadata": {
        "colab": {
          "base_uri": "https://localhost:8080/"
        },
        "id": "6qg0d9P9ykSG",
        "outputId": "84978c30-7511-4a42-e1d6-4438dc09b51c"
      },
      "execution_count": null,
      "outputs": [
        {
          "output_type": "stream",
          "name": "stdout",
          "text": [
            "[1, 2, 3, 4]\n"
          ]
        }
      ]
    },
    {
      "cell_type": "code",
      "source": [
        "def my_func1():\n",
        "  global a\n",
        "  a = 2\n",
        "\n",
        "a = 1\n",
        "my_func1()\n",
        "print(a)"
      ],
      "metadata": {
        "colab": {
          "base_uri": "https://localhost:8080/"
        },
        "id": "9sZELadAIubK",
        "outputId": "986ec5bf-b479-4150-9ec5-f8552db1d1d4"
      },
      "execution_count": null,
      "outputs": [
        {
          "output_type": "stream",
          "name": "stdout",
          "text": [
            "2\n"
          ]
        }
      ]
    },
    {
      "cell_type": "code",
      "source": [
        "def my_func1(b):\n",
        "  return b+1\n",
        "\n",
        "a = 1\n",
        "a = my_func1(a)\n",
        "print(a)"
      ],
      "metadata": {
        "colab": {
          "base_uri": "https://localhost:8080/"
        },
        "id": "n_1e4UE1J7C1",
        "outputId": "68ca896a-3942-4d6b-e904-c698276f04af"
      },
      "execution_count": null,
      "outputs": [
        {
          "output_type": "stream",
          "name": "stdout",
          "text": [
            "2\n"
          ]
        }
      ]
    },
    {
      "cell_type": "markdown",
      "source": [
        "Cloning in Python"
      ],
      "metadata": {
        "id": "oSLGjnUBMGQs"
      }
    },
    {
      "cell_type": "code",
      "source": [
        "class Jacket():\n",
        "  def __init__(self):\n",
        "    self.colour = \"no_colour\"\n",
        "    self.buttons = 1\n",
        "    self.style = \"unisex\""
      ],
      "metadata": {
        "id": "r8wlGbnbPbZd"
      },
      "execution_count": null,
      "outputs": []
    },
    {
      "cell_type": "code",
      "source": [
        "g1 = Jacket()\n",
        "g1.colour = \"grey\"\n",
        "g1.buttons = 1\n",
        "g1.style = \"woman\"\n",
        "\n",
        "g2 = Jacket()\n",
        "g2.colour = \"red\"\n",
        "g2.buttons = 1\n",
        "g2.style = \"woman\"\n",
        "\n",
        "gr = g2\n",
        "gr.colour = \"RED\"\n",
        "print(g2.colour)"
      ],
      "metadata": {
        "colab": {
          "base_uri": "https://localhost:8080/"
        },
        "id": "Q5jebJpqPi2p",
        "outputId": "16aa474e-3fc8-4d51-d3c6-970e0c6de84d"
      },
      "execution_count": null,
      "outputs": [
        {
          "output_type": "stream",
          "name": "stdout",
          "text": [
            "RED\n"
          ]
        }
      ]
    },
    {
      "cell_type": "code",
      "source": [
        "import copy\n",
        "\n",
        "gr = copy.copy(g2)\n",
        "gr.colour = \"BLACK\"\n",
        "print(g2.colour)\n",
        "print(gr.colour)"
      ],
      "metadata": {
        "colab": {
          "base_uri": "https://localhost:8080/"
        },
        "id": "JKxDBQ_ZTfAK",
        "outputId": "34410c01-d1b2-492d-9e57-ad02b7782828"
      },
      "execution_count": null,
      "outputs": [
        {
          "output_type": "stream",
          "name": "stdout",
          "text": [
            "RED\n",
            "BLACK\n"
          ]
        }
      ]
    },
    {
      "cell_type": "code",
      "source": [
        "import copy\n",
        "gr = copy.copy(g2)\n",
        "gr.colour = \"BLACK\"\n",
        "print(g2.colour)\n",
        "print(gr.colour)\n",
        "\n",
        "gj = copy.deepcopy(g2)\n",
        "gj.colour = \"BLACK\"\n",
        "print(g2.colour)\n",
        "print(gj.colour)"
      ],
      "metadata": {
        "colab": {
          "base_uri": "https://localhost:8080/"
        },
        "id": "7uymFy3GXk9e",
        "outputId": "e440f198-9dd0-49cb-e50b-a70f30985205"
      },
      "execution_count": null,
      "outputs": [
        {
          "output_type": "stream",
          "name": "stdout",
          "text": [
            "RED\n",
            "BLACK\n",
            "RED\n",
            "BLACK\n"
          ]
        }
      ]
    },
    {
      "cell_type": "code",
      "source": [
        "class Owner():\n",
        "  def __init__(self):\n",
        "    self.name = \"\"\n",
        "\n",
        "class Jacket():\n",
        "  def __init__(self):\n",
        "    self.colour = \"no_colour\"\n",
        "    self.buttons = 1\n",
        "    self.style = \"unisex\"\n",
        "    self.owner = Owner()"
      ],
      "metadata": {
        "id": "VhKrR5YITezC"
      },
      "execution_count": null,
      "outputs": []
    },
    {
      "cell_type": "code",
      "source": [
        "import copy\n",
        "\n",
        "g1 = Jacket()\n",
        "g1.colour = \"grey\"\n",
        "g1.buttons = 1\n",
        "g1.style = \"woman\"\n",
        "\n",
        "p1 = Owner()\n",
        "p1.name = \"Maria Rossi\"\n",
        "g1.owner = p1\n",
        "print(g1.owner.name)\n",
        "\n",
        "g2 = copy.copy(g1)\n",
        "g2.colour = \"brown\"\n",
        "\n",
        "g2.owner.name = \"Maria Bianchi\"\n",
        "\n",
        "print(g1.owner.name)\n",
        "print(g2.owner.name)"
      ],
      "metadata": {
        "colab": {
          "base_uri": "https://localhost:8080/"
        },
        "id": "L5hcZ85qUaz9",
        "outputId": "608f1822-3850-402a-b3ff-abd407d0d270"
      },
      "execution_count": null,
      "outputs": [
        {
          "output_type": "stream",
          "name": "stdout",
          "text": [
            "Maria Rossi\n",
            "Maria Bianchi\n",
            "Maria Bianchi\n"
          ]
        }
      ]
    },
    {
      "cell_type": "code",
      "source": [
        "import copy\n",
        "\n",
        "g1 = Jacket()\n",
        "g1.colour = \"grey\"\n",
        "g1.buttons = 1\n",
        "g1.style = \"woman\"\n",
        "\n",
        "p1 = Owner()\n",
        "p1.name = \"Maria Rossi\"\n",
        "g1.owner = p1\n",
        "print(g1.owner.name)\n",
        "\n",
        "g2 = copy.deepcopy(g1)\n",
        "g2.colour = \"brown\"\n",
        "\n",
        "g2.owner.name = \"Maria Bianchi\"\n",
        "\n",
        "print(g1.owner.name)\n",
        "print(g2.owner.name)"
      ],
      "metadata": {
        "colab": {
          "base_uri": "https://localhost:8080/"
        },
        "id": "ujdGsdyhZ8_R",
        "outputId": "631045ef-11cf-4e83-bf26-c3bebbb8e0f3"
      },
      "execution_count": null,
      "outputs": [
        {
          "output_type": "stream",
          "name": "stdout",
          "text": [
            "Maria Rossi\n",
            "Maria Rossi\n",
            "Maria Bianchi\n"
          ]
        }
      ]
    },
    {
      "cell_type": "markdown",
      "source": [
        "Polymorphism"
      ],
      "metadata": {
        "id": "SKq3odcHfFPf"
      }
    },
    {
      "cell_type": "code",
      "source": [
        "print(len('Hello guys!'))\n",
        "print(len([2,4,5,[5,6]]))"
      ],
      "metadata": {
        "colab": {
          "base_uri": "https://localhost:8080/"
        },
        "id": "pHuSHnOshiMz",
        "outputId": "aef19fe8-0445-48e9-85e6-7054d64fc596"
      },
      "execution_count": null,
      "outputs": [
        {
          "output_type": "stream",
          "name": "stdout",
          "text": [
            "11\n",
            "4\n"
          ]
        }
      ]
    },
    {
      "cell_type": "code",
      "source": [
        "class Dog:\n",
        "  def __init__(self, name):\n",
        "    self.name = name\n",
        "\n",
        "  def say_hello(self):\n",
        "    print(\"%s say Bau!\" % self.name)\n"
      ],
      "metadata": {
        "id": "AFcazwpaeC7c"
      },
      "execution_count": null,
      "outputs": []
    },
    {
      "cell_type": "code",
      "source": [
        "class Cat:\n",
        "  def __init__(self, name):\n",
        "    self.name = name\n",
        "\n",
        "  def say_hello(self):\n",
        "    print(\"%s say Miao!\" % self.name)"
      ],
      "metadata": {
        "id": "Ywv2uph4enUz"
      },
      "execution_count": null,
      "outputs": []
    },
    {
      "cell_type": "code",
      "source": [
        "my_pets = [Dog('Pluto'), Cat('Fuffy')]\n",
        "for pet in my_pets:\n",
        "  pet.say_hello()"
      ],
      "metadata": {
        "colab": {
          "base_uri": "https://localhost:8080/"
        },
        "id": "RjYGseqeerF-",
        "outputId": "3d02d88f-9fca-4ce9-aa34-30de0a46c2eb"
      },
      "execution_count": null,
      "outputs": [
        {
          "output_type": "stream",
          "name": "stdout",
          "text": [
            "Pluto say Bau!\n",
            "Fuffy say Miao!\n"
          ]
        }
      ]
    },
    {
      "cell_type": "markdown",
      "source": [
        "Inheritance"
      ],
      "metadata": {
        "id": "PZV1WvF8jBsJ"
      }
    },
    {
      "cell_type": "code",
      "source": [
        "class Animal:\n",
        "\n",
        " def print_who_i_am(self):\n",
        "   print(\"I am an animal\")\n",
        "\n",
        "class Mammal(Animal):\n",
        "  pass\n",
        "\n",
        "class Dog(Mammal):\n",
        "  pass"
      ],
      "metadata": {
        "id": "1mCpbPkDjFaH"
      },
      "execution_count": null,
      "outputs": []
    },
    {
      "cell_type": "code",
      "source": [
        "def main():\n",
        "  dog = Dog()\n",
        "  dog.print_who_i_am()\n",
        "\n",
        "if __name__== \"__main__\":\n",
        "  main()"
      ],
      "metadata": {
        "colab": {
          "base_uri": "https://localhost:8080/"
        },
        "id": "myQ8yTT8jydI",
        "outputId": "83769cc7-9aa3-4396-dfb7-2af43ecaf41c"
      },
      "execution_count": null,
      "outputs": [
        {
          "output_type": "stream",
          "name": "stdout",
          "text": [
            "I am an animal\n"
          ]
        }
      ]
    },
    {
      "cell_type": "code",
      "source": [
        "class Animal:\n",
        "\n",
        " def print_who_i_am(self):\n",
        "   print(\"I am an animal\")\n",
        "\n",
        "class Mammal(Animal):\n",
        "\n",
        "  def print_my_family(self):\n",
        "    print(\"I am a mammal\")\n",
        "\n",
        "\n",
        "class Dog(Mammal):\n",
        "\n",
        "  def print_me(self):\n",
        "    self.print_who_i_am()\n",
        "    self.print_my_family()\n",
        "    print(\"I am a dog\")"
      ],
      "metadata": {
        "id": "UKvwA1Pb2Tek"
      },
      "execution_count": null,
      "outputs": []
    },
    {
      "cell_type": "code",
      "source": [
        "def main():\n",
        "  dog = Dog()\n",
        "  dog.print_me()\n",
        "\n",
        "if __name__== \"__main__\":\n",
        "  main()"
      ],
      "metadata": {
        "colab": {
          "base_uri": "https://localhost:8080/"
        },
        "id": "sJAnzFf43I2I",
        "outputId": "bb1f48ce-d3c1-4aff-a481-f48e3356a3c6"
      },
      "execution_count": null,
      "outputs": [
        {
          "output_type": "stream",
          "name": "stdout",
          "text": [
            "I am an animal\n",
            "I am a mammal\n",
            "I am a dog\n"
          ]
        }
      ]
    },
    {
      "cell_type": "code",
      "source": [
        "class Animal:\n",
        "\n",
        " def print_who_i_am(self):\n",
        "   print(\"I am an animal\")\n",
        "\n",
        "class Mammal(Animal):\n",
        "\n",
        "  def print_who_i_am(self):\n",
        "    print(\"I am a mammal\")\n",
        "\n",
        "\n",
        "class Dog(Mammal):\n",
        "\n",
        "  def print_who_i_am(self):\n",
        "    print(\"I am a dog\")"
      ],
      "metadata": {
        "id": "_XNaaJrf7P68"
      },
      "execution_count": null,
      "outputs": []
    },
    {
      "cell_type": "code",
      "source": [
        "def main():\n",
        "  dog = Dog()\n",
        "  dog.print_who_i_am()\n",
        "\n",
        "if __name__== \"__main__\":\n",
        "  main()"
      ],
      "metadata": {
        "colab": {
          "base_uri": "https://localhost:8080/"
        },
        "id": "J2NIHnL67euX",
        "outputId": "37a10cbf-6922-4d84-f18f-20be72960869"
      },
      "execution_count": null,
      "outputs": [
        {
          "output_type": "stream",
          "name": "stdout",
          "text": [
            "I am a dog\n"
          ]
        }
      ]
    },
    {
      "cell_type": "code",
      "source": [
        "class Animal:\n",
        "\n",
        "  def __init__(self, name = None):\n",
        "    self.name = name\n",
        "    self.blood = \"\"\n",
        "\n",
        "  def print_me(self):\n",
        "    if self.name:\n",
        "      print(\"I am %s\" % self.name)\n",
        "      print(\"I have a %s blood\" % self.blood)\n",
        "\n",
        "class Mammal(Animal):\n",
        "\n",
        "  def __init__(self, name = None):\n",
        "    Animal.__init__(self, name)\n",
        "    self.blood = \"warm\"\n",
        "\n",
        "class Dog(Mammal):\n",
        "\n",
        "  def __init__(self, name = None):\n",
        "    Mammal.__init__(self, name)\n",
        "    self.call_sound = \"bau\"\n",
        "\n",
        "  def print_me(self):\n",
        "    Mammal.print_me(self)\n",
        "    print(\"My call sound is %s\" % self.call_sound)"
      ],
      "metadata": {
        "id": "h8ixzYaPAhde"
      },
      "execution_count": null,
      "outputs": []
    },
    {
      "cell_type": "code",
      "source": [
        "def main():\n",
        "  dog = Dog(\"Bobby\")\n",
        "  dog.print_me()\n",
        "\n",
        "if __name__== \"__main__\":\n",
        "  main()"
      ],
      "metadata": {
        "colab": {
          "base_uri": "https://localhost:8080/"
        },
        "id": "SSOouyt5EAnS",
        "outputId": "9711eb3a-8c9e-408b-da09-4e96fa87f3ff"
      },
      "execution_count": null,
      "outputs": [
        {
          "output_type": "stream",
          "name": "stdout",
          "text": [
            "I am Bobby\n",
            "I have a warm blood\n",
            "My call sound is bau\n"
          ]
        }
      ]
    },
    {
      "cell_type": "code",
      "source": [
        "class Animal:\n",
        "\n",
        "  def __init__(self, name = None):\n",
        "    self.name = name\n",
        "    self.blood = \"\"\n",
        "\n",
        "  def print_me(self):\n",
        "    if self.name:\n",
        "      print(\"I am %s\" % self.name)\n",
        "      print(\"I have a %s blood\" % self.blood)\n",
        "\n",
        "class Mammal(Animal):\n",
        "\n",
        "  def __init__(self, name = None):\n",
        "    super().__init__(name)\n",
        "    self.blood = \"warm\"\n",
        "\n",
        "class Dog(Mammal):\n",
        "\n",
        "  def __init__(self, name = None):\n",
        "    super().__init__(name)\n",
        "    self.call_sound = \"bau\"\n",
        "\n",
        "  def print_me(self):\n",
        "    super().print_me()\n",
        "    print(\"My call sound is %s\" % self.call_sound)"
      ],
      "metadata": {
        "id": "DCFvysqTFui5"
      },
      "execution_count": null,
      "outputs": []
    },
    {
      "cell_type": "code",
      "source": [
        "def main():\n",
        "  dog = Dog(\"Bobby\")\n",
        "  dog.print_me()\n",
        "\n",
        "if __name__== \"__main__\":\n",
        "  main()"
      ],
      "metadata": {
        "colab": {
          "base_uri": "https://localhost:8080/"
        },
        "id": "UmVI71sNF72H",
        "outputId": "6f62a1bc-25fb-4000-c7a5-71a02f154a64"
      },
      "execution_count": null,
      "outputs": [
        {
          "output_type": "stream",
          "name": "stdout",
          "text": [
            "I am Bobby\n",
            "I have a warm blood\n",
            "My call sound is bau\n"
          ]
        }
      ]
    }
  ]
}