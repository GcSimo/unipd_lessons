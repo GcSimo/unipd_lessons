{
  "nbformat": 4,
  "nbformat_minor": 0,
  "metadata": {
    "colab": {
      "provenance": [],
      "include_colab_link": true
    },
    "kernelspec": {
      "name": "python3",
      "display_name": "Python 3"
    },
    "language_info": {
      "name": "python"
    }
  },
  "cells": [
    {
      "cell_type": "markdown",
      "metadata": {
        "id": "view-in-github",
        "colab_type": "text"
      },
      "source": [
        "<a href=\"https://colab.research.google.com/github/GcSimo/unipd_lessons/blob/main/25-26_intelligenza%20artificiale/Lab2_exercises.ipynb\" target=\"_parent\"><img src=\"https://colab.research.google.com/assets/colab-badge.svg\" alt=\"Open In Colab\"/></a>"
      ]
    },
    {
      "cell_type": "markdown",
      "source": [
        "# **Exercise 1**"
      ],
      "metadata": {
        "id": "pYLNm9AZVEDf"
      }
    },
    {
      "cell_type": "markdown",
      "source": [
        "You are requested to program the software for an e-commerce site.\n",
        "\n",
        "You will need to create the objects (and classes) that represent the different entities needed in the site:\n",
        "\n",
        "\n",
        "*   A class Product\n",
        "*   A class PriceList\n",
        "*   A class Cart\n",
        "*   A class PremiumPriceList"
      ],
      "metadata": {
        "id": "oI3apfJLV4Ao"
      }
    },
    {
      "cell_type": "markdown",
      "source": [
        "A product has the following characteristics:\n",
        "*   id: unique numerical identifier of the product\n",
        "*   name: name of the product\n",
        "*   price: price of the product\n",
        "\n",
        "Add a method print to print the attributes of the Product"
      ],
      "metadata": {
        "id": "dVr3m-_1X-nQ"
      }
    },
    {
      "cell_type": "code",
      "execution_count": null,
      "metadata": {
        "id": "Ong94kKaTkMg"
      },
      "outputs": [],
      "source": [
        "# code here the class Product considering the attributes mentioned before\n",
        "\n",
        "class Product:\n",
        "    def __init__(self, id, name, price):\n",
        "        self.id = id\n",
        "        self.name = name\n",
        "        self.price = price\n",
        "\n",
        "    def print_info(self):\n",
        "        print(str(self.id), self.name, str(self.price))"
      ]
    },
    {
      "cell_type": "markdown",
      "source": [
        "Now write the class PriceList that manages a shop's price list.\n",
        "\n",
        "This class contains instances of the Product class (the class just written).\n",
        "\n",
        "Furthermore, the PriceList class must allow the following functionalities:\n",
        "\n",
        "*  add Product in the PriceList\n",
        "*  find the price of a Product from its id\n",
        "*  compute the total value of the PriceList (given by the sum of the prices of each product contained in the PriceList)"
      ],
      "metadata": {
        "id": "oP-MISy6Z5zR"
      }
    },
    {
      "cell_type": "code",
      "source": [
        "# code here the class PriceList considering the functionalities mentioned before\n",
        "class PriceList:\n",
        "    def __init__(self, products):\n",
        "        self.products = products\n",
        "\n",
        "    def add(self, new_product):\n",
        "        self.products.append(new_product)\n",
        "\n",
        "    def find(self, id):\n",
        "        for p in self.products:\n",
        "            if p.id == id:\n",
        "                return p.price\n",
        "\n",
        "    def total_value(self):\n",
        "        sum = 0\n",
        "        for p in self.products:\n",
        "            sum += p.price\n",
        "        return sum"
      ],
      "metadata": {
        "id": "K8Fhl6aMc5C2"
      },
      "execution_count": null,
      "outputs": []
    },
    {
      "cell_type": "code",
      "source": [
        "# add a main to check if all is working properly\n",
        "def main():\n",
        "    # create 3 product objects\n",
        "    apple = Product(1,\"Apple\",10)\n",
        "    banana = Product(2,\"Banana\",7)\n",
        "    kiwi = Product(3,\"Kiwi\",15)\n",
        "\n",
        "    # test print_info\n",
        "    apple.print_info()\n",
        "    banana.print_info()\n",
        "    kiwi.print_info()\n",
        "\n",
        "    # creating a priceList using products already defined\n",
        "    pl = PriceList([apple,banana,kiwi])\n",
        "\n",
        "    # test find function\n",
        "    print(\"apple price: \" + str(pl.find(1)))\n",
        "    print(\"banana price: \" + str(pl.find(2)))\n",
        "    print(\"kiwi price: \" + str(pl.find(3)))\n",
        "\n",
        "    # test add function\n",
        "    pl.add(Product(4,\"Potato\",3))\n",
        "    print(\"potato price: \" + str(pl.find(4)))\n",
        "\n",
        "    #test total_value\n",
        "    print(\"total price: \" + str(pl.total_value()))\n",
        "\n",
        "if __name__==\"__main__\":\n",
        "    main()"
      ],
      "metadata": {
        "id": "5KKrmgHCc_G5",
        "colab": {
          "base_uri": "https://localhost:8080/"
        },
        "outputId": "4a5b7eac-41a2-488f-96a8-70c87054f97b"
      },
      "execution_count": null,
      "outputs": [
        {
          "output_type": "stream",
          "name": "stdout",
          "text": [
            "1 Apple 10\n",
            "2 Banana 7\n",
            "3 Kiwi 15\n",
            "apple price: 10\n",
            "banana price: 7\n",
            "kiwi price: 15\n",
            "potato price: 3\n",
            "total price: 35\n"
          ]
        }
      ]
    },
    {
      "cell_type": "markdown",
      "source": [
        "In addition to the Price List class, the Cart class also uses the Product class.\n",
        "\n",
        "The Cart class has the following functionalities:\n",
        "*   add a Product with the relative quantity\n",
        "*   compute the total value of the Cart (given by the sum of the prices of each product contained in the Cart)"
      ],
      "metadata": {
        "id": "ffgLRF9Edcm9"
      }
    },
    {
      "cell_type": "code",
      "source": [
        "# code here the class Cart considering the functionalities mentioned before\n",
        "class Cart:\n",
        "    def __init__(self):\n",
        "        self.cart = {}\n",
        "\n",
        "    def add(self, product, quantity):\n",
        "        self.cart[product] = quantity\n",
        "\n",
        "    def totalValue(self):\n",
        "        sum = 0\n",
        "        for product, quantity in self.cart.items():\n",
        "            sum += product.price * quantity\n",
        "        return sum"
      ],
      "metadata": {
        "id": "2LvtVxl0d7hg"
      },
      "execution_count": null,
      "outputs": []
    },
    {
      "cell_type": "code",
      "source": [
        "# add a main to check if all is working properly\n",
        "def main():\n",
        "    # create a new cart object\n",
        "    my_cart = Cart()\n",
        "\n",
        "    # adding products\n",
        "    my_cart.add(Product(1,\"Apple\",10),5)\n",
        "    my_cart.add(Product(2,\"Banana\",7),10)\n",
        "    my_cart.add(Product(4,\"Potato\",3),20)\n",
        "\n",
        "    # printing cart\n",
        "    print(my_cart.cart)\n",
        "\n",
        "    # getting total value\n",
        "    print(\"total value of my_cart: \" + str(my_cart.totalValue()))\n",
        "\n",
        "if __name__ == \"__main__\":\n",
        "    main()"
      ],
      "metadata": {
        "id": "3bJt_p8ce_86",
        "colab": {
          "base_uri": "https://localhost:8080/"
        },
        "outputId": "4a3347e4-5408-4289-d04d-ac1207c75698"
      },
      "execution_count": null,
      "outputs": [
        {
          "output_type": "stream",
          "name": "stdout",
          "text": [
            "{<__main__.Product object at 0x7f99012806e0>: 5, <__main__.Product object at 0x7f9901281c10>: 10, <__main__.Product object at 0x7f99012831d0>: 20}\n",
            "total value of my_cart: 180\n"
          ]
        }
      ]
    },
    {
      "cell_type": "markdown",
      "source": [
        "Now write the code of the PremiumPriceList class that inherits the attributes and methods from the PriceList class and adds the following features:\n",
        "*   compute the total price by indicating the product (via id) and quantity. However,  for a quantity greater than the one defined in the premium price list, a discount is applied (value defined in the price list) to the total price.\n",
        "\n",
        "NB: Based on this request, the PremiumPriceList will have two class variables inside to manage the quantity and the discount.\n",
        "\n",
        "\n",
        "*  copy prices from another PriceList. Given a L1 PriceList and a L2 PriceList given as a parameter, all the items and the relative prices of L2 will be copied to L1 with the exception of the items already present in L1 (NO overwriting)"
      ],
      "metadata": {
        "id": "nCo9dNg-ffoU"
      }
    },
    {
      "cell_type": "code",
      "source": [
        "# code here the class PremiumPriceList considering the functionalities mentioned before\n",
        "import copy\n",
        "\n",
        "class PremiumPriceList(PriceList):\n",
        "    discount = 0.1 # 10%\n",
        "    quantity = 100\n",
        "\n",
        "    def total_price(self,id,quantity):\n",
        "        if quantity < self.quantity:\n",
        "            return self.find(id) * quantity\n",
        "        else:\n",
        "            return self.find(id) * quantity * (1 - self.discount)\n",
        "\n",
        "    def copy(l1, l2):\n",
        "        for p in l2.products:\n",
        "            if p not in l1.products:\n",
        "                l1.products.append(p)"
      ],
      "metadata": {
        "id": "jSQ50YyhhXgs"
      },
      "execution_count": null,
      "outputs": []
    },
    {
      "cell_type": "code",
      "source": [
        "# add a main to check if all is working properly\n",
        "def main():\n",
        "    # creating a PremiumPriceList object\n",
        "    ppl = PremiumPriceList([])\n",
        "\n",
        "    # adding some products\n",
        "    ppl.add(Product(1,\"Apple\",10))\n",
        "    ppl.add(Product(2,\"Banana\",7))\n",
        "    ppl.add(Product(3,\"Kiwi\",15))\n",
        "\n",
        "    # compute total price\n",
        "    print(\"price for 10 apples: \" + str(ppl.total_price(1,10)))\n",
        "    print(\"price for 5 bananas: \" + str(ppl.total_price(2,5)))\n",
        "    print(\"price for 20 kiwi: \" + str(ppl.total_price(3,20)))\n",
        "\n",
        "    # check deepcopy\n",
        "    p1 = Product(4,\"ananas\",1)\n",
        "    p2 = Product(5,\"orange\",2)\n",
        "    p3 = Product(6,\"lemon\",3)\n",
        "    p4 = Product(7,\"carrot\",4)\n",
        "\n",
        "    ppl1 = PremiumPriceList([p1,p2,p3])\n",
        "    print(\"ppl1: \" + str(ppl1.products))\n",
        "    ppl2 = PremiumPriceList([p3,p4])\n",
        "    print(\"ppl2: \" + str(ppl2.products))\n",
        "\n",
        "    PremiumPriceList.copy(ppl1,ppl2)\n",
        "    print(\"ppl1: \" + str(ppl1.products))\n",
        "    print(\"ppl2: \" + str(ppl2.products))\n",
        "\n",
        "if __name__ == \"__main__\":\n",
        "    main()"
      ],
      "metadata": {
        "id": "9-KygJhQidfD",
        "colab": {
          "base_uri": "https://localhost:8080/"
        },
        "outputId": "acabdf9e-1c33-436f-8875-5e05fc99d615"
      },
      "execution_count": null,
      "outputs": [
        {
          "output_type": "stream",
          "name": "stdout",
          "text": [
            "price for 10 apples: 100\n",
            "price for 5 bananas: 35\n",
            "price for 20 kiwi: 300\n",
            "ppl1: [<__main__.Product object at 0x7f99011ca060>, <__main__.Product object at 0x7f99012809b0>, <__main__.Product object at 0x7f9901283500>]\n",
            "ppl2: [<__main__.Product object at 0x7f9901283500>, <__main__.Product object at 0x7f9901283710>]\n",
            "ppl1: [<__main__.Product object at 0x7f99011ca060>, <__main__.Product object at 0x7f99012809b0>, <__main__.Product object at 0x7f9901283500>, <__main__.Product object at 0x7f9901283710>]\n",
            "ppl2: [<__main__.Product object at 0x7f9901283500>, <__main__.Product object at 0x7f9901283710>]\n"
          ]
        }
      ]
    },
    {
      "cell_type": "markdown",
      "source": [
        "# **Exercise 2**"
      ],
      "metadata": {
        "id": "RQLW8JVmM70e"
      }
    },
    {
      "cell_type": "markdown",
      "source": [
        "Starting from the list old_list = [[1, 1, 1], [2, 2, 2], [3, 3, 3]], create a shallow copy and then modify the list in order to store [[1, 1, 1], [2, 2, 'BB'], [3, 3, 3]]"
      ],
      "metadata": {
        "id": "EcIlmMBENA24"
      }
    },
    {
      "cell_type": "code",
      "source": [
        "# Use the module copy\n",
        "import copy\n",
        "\n",
        "# creating lists\n",
        "old_list = [[1, 1, 1], [2, 2, 2], [3, 3, 3]]\n",
        "new_list = copy.copy(old_list)\n",
        "\n",
        "# printing inital state of the lists\n",
        "print(\"lists before modification\")\n",
        "print(\"old_list: \" + str(old_list))\n",
        "print(\"new_list: \" + str(new_list))\n",
        "\n",
        "# modify value\n",
        "new_list[1][2] = \"BB\"\n",
        "\n",
        "# printing final state of the lists\n",
        "print(\"lists after modification\")\n",
        "print(\"old_list: \" + str(old_list))\n",
        "print(\"new_list: \" + str(new_list))"
      ],
      "metadata": {
        "id": "bCy5N4lXNj6h",
        "colab": {
          "base_uri": "https://localhost:8080/"
        },
        "outputId": "cb6b0cf6-8636-44d8-cf7a-23c63e12f4c8"
      },
      "execution_count": null,
      "outputs": [
        {
          "output_type": "stream",
          "name": "stdout",
          "text": [
            "lists before modification\n",
            "old_list: [[1, 1, 1], [2, 2, 2], [3, 3, 3]]\n",
            "new_list: [[1, 1, 1], [2, 2, 2], [3, 3, 3]]\n",
            "lists after modification\n",
            "old_list: [[1, 1, 1], [2, 2, 'BB'], [3, 3, 3]]\n",
            "new_list: [[1, 1, 1], [2, 2, 'BB'], [3, 3, 3]]\n"
          ]
        }
      ]
    },
    {
      "cell_type": "markdown",
      "source": [
        "# **Exercise 3**"
      ],
      "metadata": {
        "id": "A8v8JXcVOAqk"
      }
    },
    {
      "cell_type": "markdown",
      "source": [
        "Starting from the list old_list = [[1, 1, 1], [2, 2, 2], [3, 3, 3]], create a deep copy and then modify the list in order to store [[1, 1, 1], [2, 2, 'BB'], [3, 3, 3]]"
      ],
      "metadata": {
        "id": "ljdBzXWLOCdE"
      }
    },
    {
      "cell_type": "code",
      "source": [
        "# Use the module copy\n",
        "\n",
        "import copy\n",
        "\n",
        "# creating lists\n",
        "old_list = [[1, 1, 1], [2, 2, 2], [3, 3, 3]]\n",
        "new_list = copy.deepcopy(old_list)\n",
        "\n",
        "# printing inital state of the lists\n",
        "print(\"lists before modification\")\n",
        "print(\"old_list: \" + str(old_list))\n",
        "print(\"new_list: \" + str(new_list))\n",
        "\n",
        "# modify value\n",
        "new_list[1][2] = \"BB\"\n",
        "\n",
        "# printing final state of the lists\n",
        "print(\"lists after modification\")\n",
        "print(\"old_list: \" + str(old_list))\n",
        "print(\"new_list: \" + str(new_list))"
      ],
      "metadata": {
        "id": "WCfRX1ewOUZ8",
        "colab": {
          "base_uri": "https://localhost:8080/"
        },
        "outputId": "11e75c32-015d-42c7-b1bf-99f2ab83ddb6"
      },
      "execution_count": null,
      "outputs": [
        {
          "output_type": "stream",
          "name": "stdout",
          "text": [
            "lists before modification\n",
            "old_list: [[1, 1, 1], [2, 2, 2], [3, 3, 3]]\n",
            "new_list: [[1, 1, 1], [2, 2, 2], [3, 3, 3]]\n",
            "lists after modification\n",
            "old_list: [[1, 1, 1], [2, 2, 2], [3, 3, 3]]\n",
            "new_list: [[1, 1, 1], [2, 2, 'BB'], [3, 3, 3]]\n"
          ]
        }
      ]
    },
    {
      "cell_type": "markdown",
      "source": [
        "# **Exercise 4**"
      ],
      "metadata": {
        "id": "dwRNLj60Pf4F"
      }
    },
    {
      "cell_type": "markdown",
      "source": [
        "Write a Python class Restaurant with attributes:\n",
        "*   menu_items\n",
        "*   booked_table\n",
        "*   customer_orders\n",
        "\n",
        "and methods:\n",
        "*   add_item_to_menu(item, price)\n",
        "*   book_tables(table)\n",
        "*   customer_order(table, item)\n",
        "\n",
        "In the main, perform the following tasks now:\n",
        "\n",
        "    Now add items to the menu.\n",
        "    Make table reservations.\n",
        "    Take customer orders.\n",
        "    Print the menu.\n",
        "    Print table reservations.\n",
        "    Print customer orders.\n",
        "\n",
        "Note: Use dictionaries and lists to store the data."
      ],
      "metadata": {
        "id": "gsTq_zMgOPt9"
      }
    },
    {
      "cell_type": "code",
      "source": [
        "# class Restaurant\n",
        "class Restaurant:\n",
        "    def __init__(self, menu_items, booked_tables, customer_orders):\n",
        "        self.menu_items = menu_items\n",
        "        self.booked_tables = booked_tables\n",
        "        self.customer_orders = customer_orders\n",
        "\n",
        "    def add_item_to_menu(self, item, price):\n",
        "        self.menu_items[item] = price\n",
        "\n",
        "    def book_tables(self, table):\n",
        "        self.booked_tables.append(table)\n",
        "\n",
        "    def customer_order(self, table, item):\n",
        "        self.customer_orders.append([table, item])\n",
        "\n",
        "def main():\n",
        "    # create restaurant object\n",
        "    r = Restaurant({},[],[])\n",
        "\n",
        "    # add items to the menu\n",
        "    r.add_item_to_menu(\"pastasciutta\", 5)\n",
        "    r.add_item_to_menu(\"gnocchi\", 6)\n",
        "    r.add_item_to_menu(\"bistecca\", 8)\n",
        "    r.add_item_to_menu(\"salsiccia\", 5)\n",
        "    r.add_item_to_menu(\"insalata\", 3)\n",
        "    r.add_item_to_menu(\"patatine fritte\", 3)\n",
        "    r.add_item_to_menu(\"acqua naturale\", 1)\n",
        "    r.add_item_to_menu(\"birra\", 2)\n",
        "    r.add_item_to_menu(\"vino\", 3)\n",
        "\n",
        "    # make table reservations\n",
        "    r.book_tables(2)\n",
        "    r.book_tables(5)\n",
        "    r.book_tables(8)\n",
        "\n",
        "    # make customer orders\n",
        "    r.customer_order(2, \"bistecca\")\n",
        "    r.customer_order(2, \"insalata\")\n",
        "    r.customer_order(2, \"vino\")\n",
        "\n",
        "    r.customer_order(5, \"gnocchi\")\n",
        "    r.customer_order(5, \"acqua\")\n",
        "\n",
        "    r.customer_order(8, \"salsiccia\")\n",
        "    r.customer_order(8, \"patatine fritte\")\n",
        "    r.customer_order(8, \"birra\")\n",
        "\n",
        "    # print the menu\n",
        "    print(r.menu_items)\n",
        "\n",
        "    # print table reservations\n",
        "    print(r.booked_tables)\n",
        "\n",
        "    # print customer orders\n",
        "    print(r.customer_orders)\n",
        "\n",
        "if __name__ == \"__main__\":\n",
        "    main()"
      ],
      "metadata": {
        "colab": {
          "base_uri": "https://localhost:8080/"
        },
        "id": "_PRqEMKcs4bC",
        "outputId": "b4aaf527-66ce-45a0-f19a-be493228b31a"
      },
      "execution_count": null,
      "outputs": [
        {
          "output_type": "stream",
          "name": "stdout",
          "text": [
            "{'pastasciutta': 5, 'gnocchi': 6, 'bistecca': 8, 'salsiccia': 5, 'insalata': 3, 'patatine fritte': 3, 'acqua naturale': 1, 'birra': 2, 'vino': 3}\n",
            "[2, 5, 8]\n",
            "[[2, 'bistecca'], [2, 'insalata'], [2, 'vino'], [5, 'gnocchi'], [5, 'acqua'], [8, 'salsiccia'], [8, 'patatine fritte'], [8, 'birra']]\n"
          ]
        }
      ]
    }
  ]
}