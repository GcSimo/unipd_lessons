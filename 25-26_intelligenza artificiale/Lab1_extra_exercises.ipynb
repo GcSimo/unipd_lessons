{
  "nbformat": 4,
  "nbformat_minor": 0,
  "metadata": {
    "colab": {
      "provenance": [],
      "include_colab_link": true
    },
    "kernelspec": {
      "name": "python3",
      "display_name": "Python 3"
    },
    "language_info": {
      "name": "python"
    }
  },
  "cells": [
    {
      "cell_type": "markdown",
      "metadata": {
        "id": "view-in-github",
        "colab_type": "text"
      },
      "source": [
        "<a href=\"https://colab.research.google.com/github/GcSimo/unipd_lessons/blob/main/25-26_intelligenza%20artificiale/Lab1_extra_exercises.ipynb\" target=\"_parent\"><img src=\"https://colab.research.google.com/assets/colab-badge.svg\" alt=\"Open In Colab\"/></a>"
      ]
    },
    {
      "cell_type": "markdown",
      "source": [
        "Es 1\n",
        "\n",
        "Write a program that asks the user for the base and height of\n",
        "a rectangle. Then print the perimeter and area value\n",
        "of the rectangle."
      ],
      "metadata": {
        "id": "Otsx9TGsRkcw"
      }
    },
    {
      "cell_type": "code",
      "source": [
        "# compute_perimeter (b, h) function that receives two parameters (base, height) in input and compute the perimeter\n",
        "def compute_perimeter(b, h):\n",
        "    return 2*b+2*h\n",
        "\n",
        "# computer_area (b, h) function that receives two parameters (base, height) in input and computer the area\n",
        "def compute_area(b, h):\n",
        "    return b*h\n",
        "\n",
        "# write the instructions to receive in input base and height and call the functions\n",
        "b = eval(input(\"inserire la base: \"))\n",
        "h = eval(input(\"inserie l'altezza: \"))\n",
        "\n",
        "print(\"il perimetro è \"+ str(compute_perimeter(b, h)))\n",
        "print(\"l'area è \" + str(compute_area(b, h)))"
      ],
      "metadata": {
        "id": "2KwWfbWCSxuJ"
      },
      "execution_count": null,
      "outputs": []
    },
    {
      "cell_type": "markdown",
      "source": [
        "Es 2\n",
        "\n",
        "s = input(\"What is your name? \")\n",
        "\n",
        "Print the type of the variable s, the length, the first and last character."
      ],
      "metadata": {
        "id": "iHvTLPCIVNgd"
      }
    },
    {
      "cell_type": "code",
      "source": [
        "s = input(\"What is your name? \")\n",
        "\n",
        "#Print the type of the variable s,\n",
        "print(type(s))\n",
        "\n",
        "#the length,\n",
        "print(len(s))\n",
        "\n",
        "#the first and last character.\n",
        "print(s[0] + \" - \" + s[-1])"
      ],
      "metadata": {
        "id": "lHpfwZzrVjZu"
      },
      "execution_count": null,
      "outputs": []
    },
    {
      "cell_type": "markdown",
      "source": [
        "Es 3\n",
        "\n",
        "Write a program that asks for two numbers. If the sum of the two\n",
        "number exceeds 100, print ``Number too large''"
      ],
      "metadata": {
        "id": "clpUPxe_YQIG"
      }
    },
    {
      "cell_type": "code",
      "source": [
        "# ask number x\n",
        "x = eval(input(\"inserisci il numero x: \"))\n",
        "\n",
        "# ask number y\n",
        "y = eval(input(\"inserisci il numero y: \"))\n",
        "\n",
        "# compute the sum\n",
        "sum = x + y\n",
        "\n",
        "# verify the condition and add print\n",
        "if sum > 100:\n",
        "    print(\"number too large\")\n",
        "else:\n",
        "    print(\"numbers are ok\")"
      ],
      "metadata": {
        "id": "Ety16BRBYhc4"
      },
      "execution_count": null,
      "outputs": []
    },
    {
      "cell_type": "markdown",
      "source": [
        "Es 4\n",
        "*   Fill an initially empty list with 10 values ​​read from keyboard.\n",
        "*   Print the largest and smallest value contained in the list"
      ],
      "metadata": {
        "id": "0YUYlXyDZqNW"
      }
    },
    {
      "cell_type": "code",
      "source": [
        "import math\n",
        "\n",
        "# Empty list\n",
        "l = []\n",
        "min = math.inf\n",
        "max = -math.inf\n",
        "\n",
        "# Iterate\n",
        "for i in range(0,10):\n",
        "    # Ask for value\n",
        "    value = eval(input(\"inserisci un valore: \"))\n",
        "\n",
        "    # Fill\n",
        "    l.append(value)\n",
        "\n",
        "    # Temporary max value\n",
        "    if value > max:\n",
        "        max = value\n",
        "\n",
        "    # Temporary min value\n",
        "    if value < min:\n",
        "        min = value\n",
        "\n",
        "# stampo il minimo\n",
        "print(\"il minimo trovato è: \" + str(min))\n",
        "print(\"il massimo trovato è: \" + str(max))\n",
        "\n",
        "# Iterate and check which is the max and the min\n",
        "for v in l:\n",
        "    if v > max:\n",
        "        print(\"temporary max \" + str(max) + \" is not the real max \" + str(v))\n",
        "    if v < min:\n",
        "        print(\"temporary min \" + str(min) + \" is not the real min \" + str(v))\n"
      ],
      "metadata": {
        "id": "eVXNWg9EaPAj"
      },
      "execution_count": null,
      "outputs": []
    },
    {
      "cell_type": "markdown",
      "source": [
        "Es 5\n",
        "\n",
        "After importing the numpy module create an array\n",
        "of 100 random numbers with integer values ​​between 0 and\n",
        "50.\n",
        "\n",
        "Print all numbers greater than the mean and their location (i.e., index in the array)\n",
        "\n",
        "NB: You find hints in the documentation"
      ],
      "metadata": {
        "id": "8agdEE-Jdola"
      }
    },
    {
      "cell_type": "code",
      "source": [
        "# import the numpy\n",
        "import numpy as np\n",
        "\n",
        "# create an array of 100 random numbers between 0 and 50\n",
        "numbers = np.random.randint(0,51,100)\n",
        "\n",
        "# compute the mean\n",
        "mean = np.mean(numbers)\n",
        "print(\"mean: \" + str(mean))\n",
        "\n",
        "# Print the expected number and the locations\n",
        "for i in range(1,50):\n",
        "    if numbers[i] > mean:\n",
        "        print(\"n: \" + str(numbers[i]) + \" - i: \" + str(i))"
      ],
      "metadata": {
        "id": "e98eXdmzeMaa",
        "collapsed": true
      },
      "execution_count": null,
      "outputs": []
    },
    {
      "cell_type": "markdown",
      "source": [
        "Es 6\n",
        "\n",
        "Write a multiplier function(number_list) that\n",
        "given a list of numbers, multiply all of them together and returns the result. If the\n",
        "list is empty returns 0."
      ],
      "metadata": {
        "id": "F8WbV5-bgV6r"
      }
    },
    {
      "cell_type": "code",
      "source": [
        "# define the function\n",
        "def multiply(number_list):\n",
        "    # check if it is empty\n",
        "    if not number_list:\n",
        "        return 0\n",
        "\n",
        "    # multiple the values\n",
        "    product = 1\n",
        "    for i in number_list:\n",
        "        product *= i\n",
        "    return product\n",
        "\n",
        "# define the list\n",
        "l = [1,2,3,4,5,6,7,8,9,10]\n",
        "\n",
        "# call the function\n",
        "print(multiply(l))"
      ],
      "metadata": {
        "id": "zrdWJ3zGgZO5"
      },
      "execution_count": null,
      "outputs": []
    },
    {
      "cell_type": "markdown",
      "source": [
        "Es 7\n",
        "\n",
        "Write a countdown(string) function.\n",
        "The function takes a string as a parameter and returns the reversed\n",
        "string after making it lowercase all the\n",
        "characters and in uppercase only the last character (e.g\n",
        "example \"abcd\" becomes \"dcbA\"). Also manage the\n",
        "empty string case."
      ],
      "metadata": {
        "id": "_c_ZixcRhv7h"
      }
    },
    {
      "cell_type": "code",
      "source": [
        "# Function that capitalize and reverse a string in python\n",
        "def countdown(string):\n",
        "    string = string.capitalize() # capitalize the string\n",
        "    string = string[::-1] # reverse the string using slicing operator\n",
        "    return string\n",
        "\n",
        "# read string from stdin\n",
        "string = input(\"inserire una stringa: \")\n",
        "\n",
        "# print the result\n",
        "print(countdown(string))\n"
      ],
      "metadata": {
        "id": "0EbOZH48gyel"
      },
      "execution_count": null,
      "outputs": []
    },
    {
      "cell_type": "markdown",
      "source": [
        "Es 8\n",
        "\n",
        "Write a function frequency(string). The function\n",
        "takes a string as a parameter and returns a\n",
        "dictionary representing the frequency of each\n",
        "character component of the string.\n",
        "For example, given a string \"ababcc\", the\n",
        "function returns result {\"a\": 2, \"b\": 2, \"c\":\n",
        "2}."
      ],
      "metadata": {
        "id": "wdm3E1Grjsoe"
      }
    },
    {
      "cell_type": "code",
      "source": [
        "# function that returns a dictionary of the string\n",
        "def frequency(string):\n",
        "    d = {}\n",
        "\n",
        "    # read every character of the string\n",
        "    for c in string:\n",
        "        # if character already exist, increment the value\n",
        "        if c in d:\n",
        "            d[c] += 1\n",
        "        # if character doesn't exist, add a new entry\n",
        "        else:\n",
        "            d[c] = 1\n",
        "\n",
        "    return d\n",
        "\n",
        "# read string from stdin\n",
        "string = input(\"inserire una stringa: \")\n",
        "\n",
        "# print the result\n",
        "print(frequency(string))\n"
      ],
      "metadata": {
        "id": "hctBEQLKgy-o"
      },
      "execution_count": null,
      "outputs": []
    }
  ]
}