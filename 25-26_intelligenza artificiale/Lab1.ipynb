{
  "nbformat": 4,
  "nbformat_minor": 0,
  "metadata": {
    "colab": {
      "provenance": [],
      "include_colab_link": true
    },
    "kernelspec": {
      "name": "python3",
      "display_name": "Python 3"
    },
    "language_info": {
      "name": "python"
    }
  },
  "cells": [
    {
      "cell_type": "markdown",
      "metadata": {
        "id": "view-in-github",
        "colab_type": "text"
      },
      "source": [
        "<a href=\"https://colab.research.google.com/github/GcSimo/unipd_lessons/blob/main/25-26_intelligenza%20artificiale/Lab1.ipynb\" target=\"_parent\"><img src=\"https://colab.research.google.com/assets/colab-badge.svg\" alt=\"Open In Colab\"/></a>"
      ]
    },
    {
      "cell_type": "markdown",
      "source": [
        "**Laboratory Lecture 1**"
      ],
      "metadata": {
        "id": "8R1bA9uYMW8W"
      }
    },
    {
      "cell_type": "markdown",
      "source": [
        "**Python: Simple is better than complex**"
      ],
      "metadata": {
        "id": "IvkEJ5uc5VVb"
      }
    },
    {
      "cell_type": "code",
      "source": [
        "print('Hello, world!')"
      ],
      "metadata": {
        "id": "3rei8gJ35kEA"
      },
      "execution_count": null,
      "outputs": []
    },
    {
      "cell_type": "markdown",
      "source": [
        "**Python: Identation**\n",
        "\n"
      ],
      "metadata": {
        "id": "aJDowgeh5yKd"
      }
    },
    {
      "cell_type": "code",
      "source": [
        "x = 3\n",
        "if x > 10:\n",
        "    print('Greater than 10')\n",
        "else:\n",
        "    print('Otherwise')"
      ],
      "metadata": {
        "id": "RF4Dc44654Kp"
      },
      "execution_count": null,
      "outputs": []
    },
    {
      "cell_type": "code",
      "source": [
        "x = 3\n",
        "if x > 10:\n",
        "print('Greater than 10')\n",
        "else:\n",
        "    print('Otherwise')"
      ],
      "metadata": {
        "id": "YCtMkLCE6F07"
      },
      "execution_count": null,
      "outputs": []
    },
    {
      "cell_type": "markdown",
      "source": [
        "**Built-in types of data in Python**"
      ],
      "metadata": {
        "id": "vLfxBPjo6RQU"
      }
    },
    {
      "cell_type": "code",
      "source": [
        "x = 5\n",
        "type(5)"
      ],
      "metadata": {
        "id": "ATS-o1XF6aCM"
      },
      "execution_count": null,
      "outputs": []
    },
    {
      "cell_type": "markdown",
      "source": [
        "**Variables in Python**"
      ],
      "metadata": {
        "id": "ndlv68Jk6yk9"
      }
    },
    {
      "cell_type": "code",
      "source": [
        "x = 5\n",
        "name = ' Marco'\n",
        "start, finish = 2, 100"
      ],
      "metadata": {
        "id": "pauoRgVw61RY"
      },
      "execution_count": null,
      "outputs": []
    },
    {
      "cell_type": "markdown",
      "source": [
        "**Input function in Python**"
      ],
      "metadata": {
        "id": "Qrcm_9LO9KVu"
      }
    },
    {
      "cell_type": "code",
      "source": [
        "n = input('Enter a value')\n",
        "print(n)\n",
        "n-1"
      ],
      "metadata": {
        "id": "Rv5goSSq9QDW"
      },
      "execution_count": null,
      "outputs": []
    },
    {
      "cell_type": "markdown",
      "source": [
        "**eval() function in Python**"
      ],
      "metadata": {
        "id": "gklB1aB370vL"
      }
    },
    {
      "cell_type": "code",
      "source": [
        "n = input('Enter a value')\n",
        "n = eval(n)\n",
        "n-1\n",
        "print(type(n))"
      ],
      "metadata": {
        "id": "cLW9LRIZ8BJ_"
      },
      "execution_count": null,
      "outputs": []
    },
    {
      "cell_type": "markdown",
      "source": [
        "**Casting in Python**"
      ],
      "metadata": {
        "id": "FMn0AmLY9Z58"
      }
    },
    {
      "cell_type": "code",
      "source": [
        "y='6'\n",
        "x = int(y)\n",
        "print(x)"
      ],
      "metadata": {
        "id": "7K9DqGXx9kJP"
      },
      "execution_count": null,
      "outputs": []
    },
    {
      "cell_type": "code",
      "source": [
        "z = float('6.3')\n",
        "w = str(z)\n",
        "u = list(w)\n",
        "print(u)"
      ],
      "metadata": {
        "id": "AKS2yurv9sj6"
      },
      "execution_count": null,
      "outputs": []
    },
    {
      "cell_type": "markdown",
      "source": [
        "**Variable environment in Python**"
      ],
      "metadata": {
        "id": "qzidneVk96ZL"
      }
    },
    {
      "cell_type": "code",
      "source": [
        "v = True\n",
        "if v is True:\n",
        "    phone = 5552368\n",
        "print(phone)"
      ],
      "metadata": {
        "id": "d9XmH2JG_S8Y"
      },
      "execution_count": null,
      "outputs": []
    },
    {
      "cell_type": "code",
      "source": [
        "v = False\n",
        "if v is True:\n",
        "    phone2 = 5552368\n",
        "print(phone2)"
      ],
      "metadata": {
        "id": "tzunk4Lx_Yw4"
      },
      "execution_count": null,
      "outputs": []
    },
    {
      "cell_type": "code",
      "source": [
        "x = 0 # Global variable\n",
        "def my_function():\n",
        "    x = 123 # Local variable inside my_function\n",
        "my_function()\n",
        "print(x)"
      ],
      "metadata": {
        "id": "BKFTi3t-_t0y"
      },
      "execution_count": null,
      "outputs": []
    },
    {
      "cell_type": "code",
      "source": [
        "x = 0 # Global variable\n",
        "def my_function():\n",
        "    global x # Declaration that x is a global variable\n",
        "    x = 123 # Access to the global variable by assignment\n",
        "my_function()\n",
        "print(x)"
      ],
      "metadata": {
        "id": "e9UMvzx7_v9q"
      },
      "execution_count": null,
      "outputs": []
    },
    {
      "cell_type": "markdown",
      "source": [
        "**Packing and Unpacking of Sequences in Python**"
      ],
      "metadata": {
        "id": "1xKiEc3oAs2Q"
      }
    },
    {
      "cell_type": "code",
      "source": [
        "data = 2, 4, 6, 8\n",
        "print(data)"
      ],
      "metadata": {
        "id": "koP19_JtA4dH"
      },
      "execution_count": null,
      "outputs": []
    },
    {
      "cell_type": "code",
      "source": [
        "a, b, c, d = range(7, 11)\n",
        "print(a)\n",
        "print(b)\n",
        "print(c)\n",
        "print(d)"
      ],
      "metadata": {
        "id": "jv3ju77jA-5y"
      },
      "execution_count": null,
      "outputs": []
    },
    {
      "cell_type": "code",
      "source": [
        "a, b, c = 6, 2, 5\n",
        "print(a)\n",
        "print(b)\n",
        "print(c)"
      ],
      "metadata": {
        "id": "FnEn6WA1BMh6"
      },
      "execution_count": null,
      "outputs": []
    },
    {
      "cell_type": "markdown",
      "source": [
        "**Lists in Python**"
      ],
      "metadata": {
        "id": "NxGV17eJBdv2"
      }
    },
    {
      "cell_type": "code",
      "source": [
        "num_list = [1,2,3,4,5]\n",
        "alphabets_list = ['a','b','c','d','e']\n",
        "mixed_list = ['a', 1,'b',2,'c',3,'4']\n",
        "nested_list = [1,2,3,[4,5,6],7,8]\n",
        "print(len(nested_list))"
      ],
      "metadata": {
        "id": "ZR6I2mc6BguM"
      },
      "execution_count": null,
      "outputs": []
    },
    {
      "cell_type": "markdown",
      "source": [
        "**Tuples in Python**"
      ],
      "metadata": {
        "id": "T598FY8ACKGr"
      }
    },
    {
      "cell_type": "code",
      "source": [
        "num_tuple = (1,2,3,4,5)\n",
        "alphabets_tuple = ('a','b','c','d','e')\n",
        "mixed_tuple = ('a', 1,'b',2,'c',3,'4')\n",
        "nested_tuple = (1,2,3,(4,5,6),7,8)\n",
        "print(len(nested_tuple))"
      ],
      "metadata": {
        "id": "VIIV85vaCNty"
      },
      "execution_count": null,
      "outputs": []
    },
    {
      "cell_type": "markdown",
      "source": [
        "**Lists in Python**"
      ],
      "metadata": {
        "id": "U91nejxOCuSd"
      }
    },
    {
      "cell_type": "code",
      "source": [
        "names = [\"Raj\",\"John\",\"Jabby\",\"Raja\"]\n",
        "print(names[2])\n",
        "names[2] = \"Kelly\"\n",
        "print(names[2])"
      ],
      "metadata": {
        "id": "RsQz229hCyWv"
      },
      "execution_count": null,
      "outputs": []
    },
    {
      "cell_type": "markdown",
      "source": [
        "**Tuples in Python**"
      ],
      "metadata": {
        "id": "OTOEpDwLDHUq"
      }
    },
    {
      "cell_type": "code",
      "source": [
        "names = (\"Raj\",\"John\",\"Jabby\",\"Raja\")\n",
        "print(names[2])\n",
        "names[2] = \"Kelly\""
      ],
      "metadata": {
        "id": "-0TaUaZNDOO_"
      },
      "execution_count": null,
      "outputs": []
    },
    {
      "cell_type": "markdown",
      "source": [
        "**Operations with Lists in Python**"
      ],
      "metadata": {
        "id": "gTjy_fFuDi-i"
      }
    },
    {
      "cell_type": "code",
      "source": [
        "L = [1, 2, 3, 4]\n",
        "print(L[2])\n",
        "\n",
        "print(L[-1])\n",
        "\n",
        "print(L[1:3])"
      ],
      "metadata": {
        "id": "44sK-9UcDoZk"
      },
      "execution_count": null,
      "outputs": []
    },
    {
      "cell_type": "code",
      "source": [
        "L = []\n",
        "L.append(2)\n",
        "L.append(3)\n",
        "print(L)"
      ],
      "metadata": {
        "id": "plg67uuhD5rH"
      },
      "execution_count": null,
      "outputs": []
    },
    {
      "cell_type": "code",
      "source": [
        "L = []\n",
        "L.extend([1,2,3])\n",
        "print(L)"
      ],
      "metadata": {
        "id": "VjqumooFD_k0"
      },
      "execution_count": null,
      "outputs": []
    },
    {
      "cell_type": "code",
      "source": [
        "L = [1, 2, 3, 4]\n",
        "L.insert(1, 5)\n",
        "print(L)"
      ],
      "metadata": {
        "id": "IeNm3LHBEPFc"
      },
      "execution_count": null,
      "outputs": []
    },
    {
      "cell_type": "code",
      "source": [
        "L = [5,2,3,4]\n",
        "L.reverse()\n",
        "print(L)"
      ],
      "metadata": {
        "id": "QvqDvf4hEdTx"
      },
      "execution_count": null,
      "outputs": []
    },
    {
      "cell_type": "code",
      "source": [
        "L = [5,2,3,4]\n",
        "L.sort()\n",
        "print(L)"
      ],
      "metadata": {
        "id": "BOySykJPElFO"
      },
      "execution_count": null,
      "outputs": []
    },
    {
      "cell_type": "code",
      "source": [
        "L = [5,2,3,4]\n",
        "print(2 in L)\n",
        "print(4 not in L)"
      ],
      "metadata": {
        "id": "L1Y7Uzl8EpXv"
      },
      "execution_count": null,
      "outputs": []
    },
    {
      "cell_type": "code",
      "source": [
        "L = [5,2,3,4]\n",
        "L.remove(2)\n",
        "print(L)"
      ],
      "metadata": {
        "id": "9wDtYpKrE5C9"
      },
      "execution_count": null,
      "outputs": []
    },
    {
      "cell_type": "code",
      "source": [
        "L = [5,2,3,4]\n",
        "L.pop()\n",
        "print(L)"
      ],
      "metadata": {
        "id": "_uJ2QBBUFA-J"
      },
      "execution_count": null,
      "outputs": []
    },
    {
      "cell_type": "code",
      "source": [
        "L = [5,2,3,4]\n",
        "print(L.index(3))"
      ],
      "metadata": {
        "id": "B6ktnwMWFFuh"
      },
      "execution_count": null,
      "outputs": []
    },
    {
      "cell_type": "markdown",
      "source": [
        "**Dictionaries in Python**"
      ],
      "metadata": {
        "id": "aZtCdvG6FiWm"
      }
    },
    {
      "cell_type": "code",
      "source": [
        "D = {10000: \"Mario Rossi\", 10001: \"Maria Bianchi\", 10002: \"Pinco Pallino\"}\n",
        "empty_dict = {}\n"
      ],
      "metadata": {
        "id": "1vMW-HmxFl-a"
      },
      "execution_count": null,
      "outputs": []
    },
    {
      "cell_type": "code",
      "source": [
        "D = {10000: \"Mario Rossi\", 10001: \"Maria Bianchi\", 10002: \"Pinco Pallino\"}\n",
        "print(D[10000])"
      ],
      "metadata": {
        "id": "yRFsCP4OFt0Y"
      },
      "execution_count": null,
      "outputs": []
    },
    {
      "cell_type": "code",
      "source": [
        "D = {10000: \"Mario Rossi\", 10001: \"Maria Bianchi\", 10002: \"Pinco Pallino\"}\n",
        "del D[10000]\n",
        "print(D)"
      ],
      "metadata": {
        "id": "7ruhHeO7F00Y"
      },
      "execution_count": null,
      "outputs": []
    },
    {
      "cell_type": "markdown",
      "source": [
        "**Logic Operations in Python**"
      ],
      "metadata": {
        "id": "0bqnjgfCGY0v"
      }
    },
    {
      "cell_type": "code",
      "source": [
        "a = True\n",
        "b = False\n",
        "\n",
        "print(a and b)\n",
        "print(a or b)\n",
        "print(not a)\n",
        "print(not b)\n",
        "print(not a and b or a)"
      ],
      "metadata": {
        "id": "kymTSdkxGedY"
      },
      "execution_count": null,
      "outputs": []
    },
    {
      "cell_type": "markdown",
      "source": [
        "**Operations with String in Python**"
      ],
      "metadata": {
        "id": "GHvRqlmQG_H-"
      }
    },
    {
      "cell_type": "code",
      "source": [
        "a=\"Hello\"\n",
        "b = \"World\"\n",
        "\n",
        "print(a+b)\n",
        "print(a.upper())\n",
        "print(b.lower())"
      ],
      "metadata": {
        "id": "_pZ1tolfHDJ6"
      },
      "execution_count": null,
      "outputs": []
    },
    {
      "cell_type": "markdown",
      "source": [
        "**Loops in Python**"
      ],
      "metadata": {
        "id": "THxb_2TsHTi9"
      }
    },
    {
      "cell_type": "code",
      "source": [
        "a = 0\n",
        "while a < 10:\n",
        "  a = a + 1\n",
        "print(a)"
      ],
      "metadata": {
        "id": "BcTID4gJHWhE"
      },
      "execution_count": null,
      "outputs": []
    },
    {
      "cell_type": "code",
      "source": [
        "for a in range(0,10):\n",
        "  print(a)"
      ],
      "metadata": {
        "id": "jF-etai_HwIc"
      },
      "execution_count": null,
      "outputs": []
    },
    {
      "cell_type": "markdown",
      "source": [
        "**Functions in Python**"
      ],
      "metadata": {
        "id": "Iwjo7cqeH54v"
      }
    },
    {
      "cell_type": "code",
      "source": [
        "def my_function(food):\n",
        "  for x in food:\n",
        "    print(x)\n",
        "  food.pop()\n",
        "\n",
        "fruits = [\"apple\", \"banana\", \"cherry\"]\n",
        "my_function(fruits)\n",
        "print(fruits)"
      ],
      "metadata": {
        "id": "GWjioBZAH80G"
      },
      "execution_count": null,
      "outputs": []
    },
    {
      "cell_type": "code",
      "source": [
        "def sum(a,b):\n",
        "  return a+b\n",
        "\n",
        "c = sum(3,4)\n",
        "print(c)"
      ],
      "metadata": {
        "id": "YSfsX9EdIWGH"
      },
      "execution_count": null,
      "outputs": []
    },
    {
      "cell_type": "markdown",
      "source": [
        "**Importing modules in Python**"
      ],
      "metadata": {
        "id": "0ktw2m-2IlOI"
      }
    },
    {
      "cell_type": "code",
      "source": [
        "import math, random, csv\n",
        "import itertools, functools\n",
        "import numpy"
      ],
      "metadata": {
        "id": "VAAF441gIp0Z"
      },
      "execution_count": null,
      "outputs": []
    },
    {
      "cell_type": "code",
      "source": [
        "!pip install nxviz # missing in colab need to install\n",
        "from nxviz import ArcPlot"
      ],
      "metadata": {
        "id": "OtoX5GifI5pB"
      },
      "execution_count": null,
      "outputs": []
    },
    {
      "cell_type": "code",
      "source": [
        "import matplotlib.pyplot as plt"
      ],
      "metadata": {
        "id": "J7Fxucy2JiFb"
      },
      "execution_count": null,
      "outputs": []
    }
  ]
}